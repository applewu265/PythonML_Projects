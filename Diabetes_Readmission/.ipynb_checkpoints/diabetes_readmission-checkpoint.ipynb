{
 "cells": [
  {
   "cell_type": "code",
   "execution_count": 2,
   "id": "562f946c-c2f7-4768-b39b-ffd79ae2e269",
   "metadata": {},
   "outputs": [],
   "source": [
    "import numpy as np\n",
    "import matplotlib.pyplot as plt\n",
    "import pandas as pd"
   ]
  },
  {
   "cell_type": "markdown",
   "id": "18f333a5-a2d2-4df7-b859-910fcc189009",
   "metadata": {},
   "source": [
    "This model uses data from the [UCI ML Repository](https://archive.ics.uci.edu/dataset/296/diabetes+130-us+hospitals+for+years+1999-2008)"
   ]
  },
  {
   "cell_type": "code",
   "execution_count": 11,
   "id": "4ff72698-c7fd-48a6-b721-a197ea9295ad",
   "metadata": {
    "scrolled": true
   },
   "outputs": [
    {
     "name": "stderr",
     "output_type": "stream",
     "text": [
      "/opt/anaconda3/lib/python3.12/site-packages/ucimlrepo/fetch.py:97: DtypeWarning: Columns (10) have mixed types. Specify dtype option on import or set low_memory=False.\n",
      "  df = pd.read_csv(data_url)\n"
     ]
    },
    {
     "name": "stdout",
     "output_type": "stream",
     "text": [
      "\n",
      "Variable Information:\n",
      "                        name     role         type demographic  \\\n",
      "0               encounter_id       ID                     None   \n",
      "1                patient_nbr       ID                     None   \n",
      "2                       race  Feature  Categorical        Race   \n",
      "3                     gender  Feature  Categorical      Gender   \n",
      "4                        age  Feature  Categorical         Age   \n",
      "5                     weight  Feature  Categorical        None   \n",
      "6          admission_type_id  Feature  Categorical        None   \n",
      "7   discharge_disposition_id  Feature  Categorical        None   \n",
      "8        admission_source_id  Feature  Categorical        None   \n",
      "9           time_in_hospital  Feature      Integer        None   \n",
      "10                payer_code  Feature  Categorical        None   \n",
      "11         medical_specialty  Feature  Categorical        None   \n",
      "12        num_lab_procedures  Feature      Integer        None   \n",
      "13            num_procedures  Feature      Integer        None   \n",
      "14           num_medications  Feature      Integer        None   \n",
      "15         number_outpatient  Feature      Integer        None   \n",
      "16          number_emergency  Feature      Integer        None   \n",
      "17          number_inpatient  Feature      Integer        None   \n",
      "18                    diag_1  Feature  Categorical        None   \n",
      "19                    diag_2  Feature  Categorical        None   \n",
      "20                    diag_3  Feature  Categorical        None   \n",
      "21          number_diagnoses  Feature      Integer        None   \n",
      "22             max_glu_serum  Feature  Categorical        None   \n",
      "23                 A1Cresult  Feature  Categorical        None   \n",
      "24                 metformin  Feature  Categorical        None   \n",
      "25               repaglinide  Feature  Categorical        None   \n",
      "26               nateglinide  Feature  Categorical        None   \n",
      "27            chlorpropamide  Feature  Categorical        None   \n",
      "28               glimepiride  Feature  Categorical        None   \n",
      "29             acetohexamide  Feature  Categorical        None   \n",
      "30                 glipizide  Feature  Categorical        None   \n",
      "31                 glyburide  Feature  Categorical        None   \n",
      "32               tolbutamide  Feature  Categorical        None   \n",
      "33              pioglitazone  Feature  Categorical        None   \n",
      "34             rosiglitazone  Feature  Categorical        None   \n",
      "35                  acarbose  Feature  Categorical        None   \n",
      "36                  miglitol  Feature  Categorical        None   \n",
      "37              troglitazone  Feature  Categorical        None   \n",
      "38                tolazamide  Feature  Categorical        None   \n",
      "39                   examide  Feature  Categorical        None   \n",
      "40               citoglipton  Feature  Categorical        None   \n",
      "41                   insulin  Feature  Categorical        None   \n",
      "42       glyburide-metformin  Feature  Categorical        None   \n",
      "43       glipizide-metformin  Feature  Categorical        None   \n",
      "44  glimepiride-pioglitazone  Feature  Categorical        None   \n",
      "45   metformin-rosiglitazone  Feature  Categorical        None   \n",
      "46    metformin-pioglitazone  Feature  Categorical        None   \n",
      "47                    change  Feature  Categorical        None   \n",
      "48               diabetesMed  Feature  Categorical        None   \n",
      "49                readmitted   Target  Categorical        None   \n",
      "\n",
      "                                          description units missing_values  \n",
      "0                   Unique identifier of an encounter  None             no  \n",
      "1                      Unique identifier of a patient  None             no  \n",
      "2   Values: Caucasian, Asian, African American, Hi...  None            yes  \n",
      "3           Values: male, female, and unknown/invalid  None             no  \n",
      "4   Grouped in 10-year intervals: [0, 10), [10, 20...  None             no  \n",
      "5                                   Weight in pounds.  None            yes  \n",
      "6   Integer identifier corresponding to 9 distinct...  None             no  \n",
      "7   Integer identifier corresponding to 29 distinc...  None             no  \n",
      "8   Integer identifier corresponding to 21 distinc...  None             no  \n",
      "9   Integer number of days between admission and d...  None             no  \n",
      "10  Integer identifier corresponding to 23 distinc...  None            yes  \n",
      "11  Integer identifier of a specialty of the admit...  None            yes  \n",
      "12  Number of lab tests performed during the encou...  None             no  \n",
      "13  Number of procedures (other than lab tests) pe...  None             no  \n",
      "14  Number of distinct generic names administered ...  None             no  \n",
      "15  Number of outpatient visits of the patient in ...  None             no  \n",
      "16  Number of emergency visits of the patient in t...  None             no  \n",
      "17  Number of inpatient visits of the patient in t...  None             no  \n",
      "18  The primary diagnosis (coded as first three di...  None            yes  \n",
      "19  Secondary diagnosis (coded as first three digi...  None            yes  \n",
      "20  Additional secondary diagnosis (coded as first...  None            yes  \n",
      "21          Number of diagnoses entered to the system  None             no  \n",
      "22  Indicates the range of the result or if the te...  None             no  \n",
      "23  Indicates the range of the result or if the te...  None             no  \n",
      "24  The feature indicates whether the drug was pre...  None             no  \n",
      "25  The feature indicates whether the drug was pre...  None             no  \n",
      "26  The feature indicates whether the drug was pre...  None             no  \n",
      "27  The feature indicates whether the drug was pre...  None             no  \n",
      "28  The feature indicates whether the drug was pre...  None             no  \n",
      "29  The feature indicates whether the drug was pre...  None             no  \n",
      "30  The feature indicates whether the drug was pre...  None             no  \n",
      "31  The feature indicates whether the drug was pre...  None             no  \n",
      "32  The feature indicates whether the drug was pre...  None             no  \n",
      "33  The feature indicates whether the drug was pre...  None             no  \n",
      "34  The feature indicates whether the drug was pre...  None             no  \n",
      "35  The feature indicates whether the drug was pre...  None             no  \n",
      "36  The feature indicates whether the drug was pre...  None             no  \n",
      "37  The feature indicates whether the drug was pre...  None             no  \n",
      "38  The feature indicates whether the drug was pre...  None             no  \n",
      "39  The feature indicates whether the drug was pre...  None             no  \n",
      "40  The feature indicates whether the drug was pre...  None             no  \n",
      "41  The feature indicates whether the drug was pre...  None             no  \n",
      "42  The feature indicates whether the drug was pre...  None             no  \n",
      "43  The feature indicates whether the drug was pre...  None             no  \n",
      "44  The feature indicates whether the drug was pre...  None             no  \n",
      "45  The feature indicates whether the drug was pre...  None             no  \n",
      "46  The feature indicates whether the drug was pre...  None             no  \n",
      "47  Indicates if there was a change in diabetic me...  None             no  \n",
      "48  Indicates if there was any diabetic medication...  None             no  \n",
      "49  Days to inpatient readmission. Values: <30 if ...  None             no  \n"
     ]
    }
   ],
   "source": [
    "from ucimlrepo import fetch_ucirepo\n",
    "\n",
    "diabetes_130_us_hospitals_for_years_1999_2008 = fetch_ucirepo(id=296)\n",
    "print(f\"\\nVariable Information:\\n{diabetes_130_us_hospitals_for_years_1999_2008.variables}\")"
   ]
  },
  {
   "cell_type": "code",
   "execution_count": 3,
   "id": "3c17ce73-a982-4bc6-9ff6-ee65d70c0ef9",
   "metadata": {},
   "outputs": [
    {
     "name": "stdout",
     "output_type": "stream",
     "text": [
      "<class 'pandas.core.frame.DataFrame'>\n",
      "RangeIndex: 101766 entries, 0 to 101765\n",
      "Data columns (total 50 columns):\n",
      " #   Column                    Non-Null Count   Dtype \n",
      "---  ------                    --------------   ----- \n",
      " 0   encounter_id              101766 non-null  int64 \n",
      " 1   patient_nbr               101766 non-null  int64 \n",
      " 2   race                      101766 non-null  object\n",
      " 3   gender                    101766 non-null  object\n",
      " 4   age                       101766 non-null  object\n",
      " 5   weight                    101766 non-null  object\n",
      " 6   admission_type_id         101766 non-null  int64 \n",
      " 7   discharge_disposition_id  101766 non-null  int64 \n",
      " 8   admission_source_id       101766 non-null  int64 \n",
      " 9   time_in_hospital          101766 non-null  int64 \n",
      " 10  payer_code                101766 non-null  object\n",
      " 11  medical_specialty         101766 non-null  object\n",
      " 12  num_lab_procedures        101766 non-null  int64 \n",
      " 13  num_procedures            101766 non-null  int64 \n",
      " 14  num_medications           101766 non-null  int64 \n",
      " 15  number_outpatient         101766 non-null  int64 \n",
      " 16  number_emergency          101766 non-null  int64 \n",
      " 17  number_inpatient          101766 non-null  int64 \n",
      " 18  diag_1                    101766 non-null  object\n",
      " 19  diag_2                    101766 non-null  object\n",
      " 20  diag_3                    101766 non-null  object\n",
      " 21  number_diagnoses          101766 non-null  int64 \n",
      " 22  max_glu_serum             5346 non-null    object\n",
      " 23  A1Cresult                 17018 non-null   object\n",
      " 24  metformin                 101766 non-null  object\n",
      " 25  repaglinide               101766 non-null  object\n",
      " 26  nateglinide               101766 non-null  object\n",
      " 27  chlorpropamide            101766 non-null  object\n",
      " 28  glimepiride               101766 non-null  object\n",
      " 29  acetohexamide             101766 non-null  object\n",
      " 30  glipizide                 101766 non-null  object\n",
      " 31  glyburide                 101766 non-null  object\n",
      " 32  tolbutamide               101766 non-null  object\n",
      " 33  pioglitazone              101766 non-null  object\n",
      " 34  rosiglitazone             101766 non-null  object\n",
      " 35  acarbose                  101766 non-null  object\n",
      " 36  miglitol                  101766 non-null  object\n",
      " 37  troglitazone              101766 non-null  object\n",
      " 38  tolazamide                101766 non-null  object\n",
      " 39  examide                   101766 non-null  object\n",
      " 40  citoglipton               101766 non-null  object\n",
      " 41  insulin                   101766 non-null  object\n",
      " 42  glyburide-metformin       101766 non-null  object\n",
      " 43  glipizide-metformin       101766 non-null  object\n",
      " 44  glimepiride-pioglitazone  101766 non-null  object\n",
      " 45  metformin-rosiglitazone   101766 non-null  object\n",
      " 46  metformin-pioglitazone    101766 non-null  object\n",
      " 47  change                    101766 non-null  object\n",
      " 48  diabetesMed               101766 non-null  object\n",
      " 49  readmitted                101766 non-null  object\n",
      "dtypes: int64(13), object(37)\n",
      "memory usage: 38.8+ MB\n"
     ]
    }
   ],
   "source": [
    "data = pd.read_csv(\"diabetes_data/diabetic_data.csv\")\n",
    "data.info()"
   ]
  },
  {
   "cell_type": "code",
   "execution_count": 4,
   "id": "c50469f7-9374-4c9f-bbab-8781e24a1f48",
   "metadata": {},
   "outputs": [
    {
     "data": {
      "text/plain": [
       "encounter_id                101766\n",
       "patient_nbr                  71518\n",
       "race                             6\n",
       "gender                           3\n",
       "age                             10\n",
       "weight                          10\n",
       "admission_type_id                8\n",
       "discharge_disposition_id        26\n",
       "admission_source_id             17\n",
       "time_in_hospital                14\n",
       "payer_code                      18\n",
       "medical_specialty               73\n",
       "num_lab_procedures             118\n",
       "num_procedures                   7\n",
       "num_medications                 75\n",
       "number_outpatient               39\n",
       "number_emergency                33\n",
       "number_inpatient                21\n",
       "diag_1                         717\n",
       "diag_2                         749\n",
       "diag_3                         790\n",
       "number_diagnoses                16\n",
       "max_glu_serum                    3\n",
       "A1Cresult                        3\n",
       "metformin                        4\n",
       "repaglinide                      4\n",
       "nateglinide                      4\n",
       "chlorpropamide                   4\n",
       "glimepiride                      4\n",
       "acetohexamide                    2\n",
       "glipizide                        4\n",
       "glyburide                        4\n",
       "tolbutamide                      2\n",
       "pioglitazone                     4\n",
       "rosiglitazone                    4\n",
       "acarbose                         4\n",
       "miglitol                         4\n",
       "troglitazone                     2\n",
       "tolazamide                       3\n",
       "examide                          1\n",
       "citoglipton                      1\n",
       "insulin                          4\n",
       "glyburide-metformin              4\n",
       "glipizide-metformin              2\n",
       "glimepiride-pioglitazone         2\n",
       "metformin-rosiglitazone          2\n",
       "metformin-pioglitazone           2\n",
       "change                           2\n",
       "diabetesMed                      2\n",
       "readmitted                       3\n",
       "dtype: int64"
      ]
     },
     "execution_count": 4,
     "metadata": {},
     "output_type": "execute_result"
    }
   ],
   "source": [
    "data.nunique()"
   ]
  },
  {
   "cell_type": "markdown",
   "id": "96545703-4675-47b3-a98c-7dd772df23e7",
   "metadata": {},
   "source": [
    "In total there are 101766 entries but only 71518 patients. Need to stratify split training and testing by patient ID (patient_nbr column)\n",
    "### Part 1: Exploratory Data Analysis\n",
    "Examine numerical and categorical columns separately"
   ]
  },
  {
   "cell_type": "code",
   "execution_count": 15,
   "id": "1d234df2-16bb-4e18-bfe2-676d87589854",
   "metadata": {},
   "outputs": [
    {
     "data": {
      "text/plain": [
       "Index(['name', 'role', 'type', 'demographic', 'description', 'units',\n",
       "       'missing_values'],\n",
       "      dtype='object')"
      ]
     },
     "execution_count": 15,
     "metadata": {},
     "output_type": "execute_result"
    }
   ],
   "source": [
    "diabetes_130_us_hospitals_for_years_1999_2008.variables.columns"
   ]
  },
  {
   "cell_type": "code",
   "execution_count": 33,
   "id": "d4b10ff9-13b4-415a-919c-d8f900b4fe7a",
   "metadata": {},
   "outputs": [
    {
     "name": "stdout",
     "output_type": "stream",
     "text": [
      "Numerical Columns:\n",
      "['time_in_hospital', 'num_lab_procedures', 'num_procedures', 'num_medications', 'number_outpatient', 'number_emergency', 'number_inpatient', 'number_diagnoses']\n",
      "Categorical Columns:\n",
      "['race', 'gender', 'age', 'weight', 'admission_type_id', 'discharge_disposition_id', 'admission_source_id', 'payer_code', 'medical_specialty', 'diag_1', 'diag_2', 'diag_3', 'max_glu_serum', 'A1Cresult', 'metformin', 'repaglinide', 'nateglinide', 'chlorpropamide', 'glimepiride', 'acetohexamide', 'glipizide', 'glyburide', 'tolbutamide', 'pioglitazone', 'rosiglitazone', 'acarbose', 'miglitol', 'troglitazone', 'tolazamide', 'examide', 'citoglipton', 'insulin', 'glyburide-metformin', 'glipizide-metformin', 'glimepiride-pioglitazone', 'metformin-rosiglitazone', 'metformin-pioglitazone', 'change', 'diabetesMed', 'readmitted']\n"
     ]
    }
   ],
   "source": [
    "# separate numerical and categorical columns\n",
    "features_info = diabetes_130_us_hospitals_for_years_1999_2008.variables\n",
    "num_cols = [features_info.iloc[i,0] for i in range(len(features_info)) if (features_info.iloc[i,2] == \"Integer\")]\n",
    "cat_cols = [features_info.iloc[i,0] for i in range(len(features_info)) if (features_info.iloc[i,2] == \"Categorical\")]\n",
    "print(f\"Numerical Columns:\\n{num_cols}\")\n",
    "print(f\"Categorical Columns:\\n{cat_cols}\")"
   ]
  },
  {
   "cell_type": "code",
   "execution_count": null,
   "id": "2b02c09a-27d9-41b5-b3b2-66738e8ff209",
   "metadata": {},
   "outputs": [],
   "source": []
  }
 ],
 "metadata": {
  "kernelspec": {
   "display_name": "Python 3 (ipykernel)",
   "language": "python",
   "name": "python3"
  },
  "language_info": {
   "codemirror_mode": {
    "name": "ipython",
    "version": 3
   },
   "file_extension": ".py",
   "mimetype": "text/x-python",
   "name": "python",
   "nbconvert_exporter": "python",
   "pygments_lexer": "ipython3",
   "version": "3.12.4"
  }
 },
 "nbformat": 4,
 "nbformat_minor": 5
}
